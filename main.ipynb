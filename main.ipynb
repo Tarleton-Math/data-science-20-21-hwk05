{
  "nbformat": 4,
  "nbformat_minor": 0,
  "metadata": {
    "colab": {
      "name": "main.ipynb",
      "provenance": [],
      "collapsed_sections": [],
      "include_colab_link": true
    },
    "kernelspec": {
      "name": "python3",
      "display_name": "Python 3"
    }
  },
  "cells": [
    {
      "cell_type": "markdown",
      "metadata": {
        "id": "view-in-github",
        "colab_type": "text"
      },
      "source": [
        "<a href=\"https://colab.research.google.com/github/Tarleton-Math/data-science-20-21-hwk05/blob/master/main.ipynb\" target=\"_parent\"><img src=\"https://colab.research.google.com/assets/colab-badge.svg\" alt=\"Open In Colab\"/></a>"
      ]
    },
    {
      "cell_type": "markdown",
      "metadata": {
        "id": "ZNlpEYHNjcT_"
      },
      "source": [
        "#  Homework 05\n",
        "## Data Science (masters)\n",
        "## Math 5364 & 5366, Fall 20 & Spring 21\n",
        "## Tarleton State University\n",
        "## Dr. Scott Cook\n",
        "## Due 2020-10-09"
      ]
    },
    {
      "cell_type": "markdown",
      "metadata": {
        "id": "oVisLXgwoG3f"
      },
      "source": [
        "This homework will largely follow the patterns of the 9-22 & 10-01 notes.  You are free to reuse/modify that code.  \n",
        "\n",
        "- Load the Wisconsin Breast Cancer data set from sci-kit Learn.\n",
        "    - Because we're using built-in data, this hwk is contained entirely in one notebook.  So, we won't need all the github push/pull code.  Just use the simpler \"save a copy in github\" method to push results.\n",
        "- Reserve a 10% holdout set using StatifiedShuffleSplit with random_state=42.\n",
        "- For cross-validation, use StatifiedKFold with 10 splits.\n",
        "    - Recall the default for GridSearchCV is StatifiedKFold with 5 splits, so you will need to adjust appropriately.\n",
        "- Use sci-kit learn's commands for cross-validation and KNN, rather than the ones we wrote in hwk03.\n",
        "- Use accuracy as the scoring metric.\n",
        "- For each question below, I'll specify steps of the model and range for the hyperparameters.  Your jobs:\n",
        "    1. Use GridSearchCV to train and evaluate all models.\n",
        "    1. Display a dataframe showing the hyperparameter values for all models within 10% of the max performance.  Sort by accuracy with best on top.\n",
        "        - I suggest using a small variant of the last cell of the 10-01 notes.\n",
        "    1. Discuss which model you think is optimal.  Recall that accuracy alone may not be enough.  We need to balance over/underfitting (robustness).  If we have several good models, we'd also like some dimensionality reduction too (though this is less important than performance and robustness.\n",
        "    1. Now that we've selected one best model, it's time to apply it to the holdout set to evaluate its generalization performane.  Using the model you chose above\n",
        "        - Refit it using the *entire modeling* set (no cross-validation).\n",
        "        - Apply it to the holdout set.\n",
        "        - Show the confusion matrix and accuracy.\n"
      ]
    },
    {
      "cell_type": "markdown",
      "metadata": {
        "id": "pXCBNKYzUARp"
      },
      "source": [
        "1. KNN only (no scaling, PCA, etc)\n",
        "    - n_neighbors in [1, 2, ..., 10]\n",
        "1. Scale + PCA + KNN\n",
        "    - Scale = StandardScaler\n",
        "    - n_components in [1, 2, ..., number of features]\n",
        "    - n_neighbors in [1, 2, ..., 10]\n",
        "    - weights in ['uniform', 'distance]\n",
        "    - p in [1,2,3,4,5]\n",
        "1. Recall that the [sci-kit learn preprocessing module](https://scikit-learn.org/stable/modules/classes.html#module-sklearn.preprocessing) offers other scalers too.  Let's also explore MinMaxScaler, RobustScaler.  Read about them, write brief descriptions in your own words, and compare/contrast them.\n",
        "1. Scale + PCA + KNN\n",
        "    - Scaler in [StandardScaler, MinMaxScaler, RobustScaler]\n",
        "    - n_components in [1, 2, ..., number of features]\n",
        "    - n_neighbors in [1, 2, ..., 10]\n",
        "    - weights in ['uniform', 'distance]\n",
        "    - p in [1,2,3,4,5]"
      ]
    }
  ]
}